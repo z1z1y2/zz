{
 "cells": [
  {
   "cell_type": "code",
   "execution_count": 2,
   "id": "e742c341",
   "metadata": {},
   "outputs": [
    {
     "name": "stdout",
     "output_type": "stream",
     "text": [
      "斜率(权重):6.997414262384324\n",
      "截距(偏置):-9.581246597713744\n"
     ]
    }
   ],
   "source": [
    "import numpy as np\n",
    "from sklearn.linear_model import LinearRegression\n",
    "import matplotlib.pyplot as plt\n",
    "\n",
    "\n",
    "x=np.array([[50],[70],[82],[101],[120]])\n",
    "\n",
    "y=np.array([300,500,610,702,800])\n",
    "\n",
    "model = LinearRegression()\n",
    "\n",
    "model.fit(x,y)\n",
    "\n",
    "slope = model.coef_\n",
    "intercept = model.intercept_\n",
    "\n",
    "print(f\"斜率(权重):{slope[0]}\")\n",
    "print(f\"截距(偏置):{intercept}\")"
   ]
  },
  {
   "cell_type": "code",
   "execution_count": null,
   "id": "679a14e8",
   "metadata": {},
   "outputs": [],
   "source": []
  }
 ],
 "metadata": {
  "kernelspec": {
   "display_name": "Python 3 (ipykernel)",
   "language": "python",
   "name": "python3"
  },
  "language_info": {
   "codemirror_mode": {
    "name": "ipython",
    "version": 3
   },
   "file_extension": ".py",
   "mimetype": "text/x-python",
   "name": "python",
   "nbconvert_exporter": "python",
   "pygments_lexer": "ipython3",
   "version": "3.9.7"
  }
 },
 "nbformat": 4,
 "nbformat_minor": 5
}
